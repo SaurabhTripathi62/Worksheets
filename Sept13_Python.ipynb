{
 "cells": [
  {
   "cell_type": "code",
   "execution_count": 30,
   "metadata": {},
   "outputs": [
    {
     "name": "stdout",
     "output_type": "stream",
     "text": [
      "Enter a number: 6\n",
      "The factorial of the number is 720\n"
     ]
    }
   ],
   "source": [
    "#### Python program to find factorial of a number\n",
    "\n",
    "n=int(input(\"Enter a number: \"))\n",
    "factorial=n\n",
    "while n>1:\n",
    "    factorial=factorial*(n-1)\n",
    "    n=n-1\n",
    "print(\"The factorial of the number is\", factorial)"
   ]
  },
  {
   "cell_type": "code",
   "execution_count": 28,
   "metadata": {},
   "outputs": [
    {
     "name": "stdout",
     "output_type": "stream",
     "text": [
      "Enter a number: 6\n",
      "6 is a composite number\n"
     ]
    }
   ],
   "source": [
    "#### Python programt to find whether a no.is prime or composite\n",
    "\n",
    "n=int(input(\"Enter a number: \"))\n",
    "a=0\n",
    "if n<=0:\n",
    "    print (\"Enter a positive number\")\n",
    "if n>0:\n",
    "    for i in range (2,n):\n",
    "        if n%i==0:\n",
    "            a=a+1\n",
    "    if a>=1:\n",
    "        print(\"{} is a composite number\".format(n)) \n",
    "    else:\n",
    "        print(\"{} is a prime number\".format(n))"
   ]
  },
  {
   "cell_type": "code",
   "execution_count": 78,
   "metadata": {},
   "outputs": [
    {
     "name": "stdout",
     "output_type": "stream",
     "text": [
      "Enter the string to check whether it is a palindrome or not: hindi\n",
      "No! The string is not a palindrome!!\n"
     ]
    }
   ],
   "source": [
    "##### Python program to find whether a given string is palindrome or not\n",
    "s=input(\"Enter the string to check whether it is a palindrome or not: \")\n",
    "if s == s[::-1]:\n",
    "    print(\"Yes! The string is a palindrome!!\")\n",
    "\n",
    "else:\n",
    "    print(\"No! The string is not a palindrome!!\")"
   ]
  },
  {
   "cell_type": "code",
   "execution_count": 37,
   "metadata": {},
   "outputs": [
    {
     "name": "stdout",
     "output_type": "stream",
     "text": [
      "Enter the length of the one side of the triangle: 4\n",
      "Enter the length of the other side of the triangle: 3\n",
      "The length of the other side of the triangle is 5.0\n"
     ]
    }
   ],
   "source": [
    "#### Python program to get the third side of right angled triangle from two given sides\n",
    "# In a right angled triangle a^2+b^2=C^2\n",
    "\n",
    "a=int(input(\"Enter the length of the one side of the triangle: \"))\n",
    "b=int(input(\"Enter the length of the other side of the triangle: \"))\n",
    "\n",
    "import math\n",
    "print(\"The length of the other side of the triangle is\", math.sqrt((a**2)+(b**2)))\n"
   ]
  },
  {
   "cell_type": "code",
   "execution_count": 84,
   "metadata": {},
   "outputs": [
    {
     "name": "stdout",
     "output_type": "stream",
     "text": [
      "Enter the string to check the frequency of characters: India is an ancient country having very proud heritage\n",
      "Count of all characteres in the string is: \n",
      " Counter({'I': 2, 'n': 2, 'i': 2, 'd': 1, 'a': 1, 's': 1, 'm': 1, 'e': 1})\n"
     ]
    }
   ],
   "source": [
    "##### Python program to print the frequency of each of the characters present in the given string\n",
    "s=input(\"Enter the string to check the frequency of characters: \")\n",
    "\n",
    "from collections import Counter\n",
    "res=Counter(a)\n",
    "\n",
    "print(\"Count of all characteres in the string is: \\n\", res)"
   ]
  }
 ],
 "metadata": {
  "kernelspec": {
   "display_name": "Python 3",
   "language": "python",
   "name": "python3"
  },
  "language_info": {
   "codemirror_mode": {
    "name": "ipython",
    "version": 3
   },
   "file_extension": ".py",
   "mimetype": "text/x-python",
   "name": "python",
   "nbconvert_exporter": "python",
   "pygments_lexer": "ipython3",
   "version": "3.7.4"
  }
 },
 "nbformat": 4,
 "nbformat_minor": 2
}
