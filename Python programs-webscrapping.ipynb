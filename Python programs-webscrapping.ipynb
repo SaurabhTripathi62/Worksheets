{
 "cells": [
  {
   "cell_type": "markdown",
   "metadata": {},
   "source": [
    "##### Write a Python program to check whether a page contains a title or not."
   ]
  },
  {
   "cell_type": "code",
   "execution_count": 1,
   "metadata": {},
   "outputs": [],
   "source": [
    "from urllib.request import urlopen\n",
    "from urllib.error import HTTPError\n",
    "from bs4 import BeautifulSoup\n"
   ]
  },
  {
   "cell_type": "code",
   "execution_count": 2,
   "metadata": {},
   "outputs": [
    {
     "name": "stdout",
     "output_type": "stream",
     "text": [
      "None\n",
      "<h1 style=\"display:inline-block\">NEWS</h1>\n"
     ]
    }
   ],
   "source": [
    "def getTitle(url):\n",
    "    try:\n",
    "        html=urlopen(url)\n",
    "    except HTTPError as e:\n",
    "        return None\n",
    "    try:\n",
    "        bs=BeautifulSoup(html.read(),\"lxml\")\n",
    "        title=bs.body.h1\n",
    "    except AttributeError as e:\n",
    "        return None\n",
    "    return title\n",
    "    \n",
    "    title=getTitle(url)\n",
    "    if title==None:\n",
    "        return \"Title could not be found\"\n",
    "    else:\n",
    "        return title\n",
    "    \n",
    "print(getTitle(\"https://www.amazon.in/\"))\n",
    "print(getTitle(\"https://timesofindia.indiatimes.com/\"))"
   ]
  },
  {
   "cell_type": "markdown",
   "metadata": {},
   "source": [
    "##### Write a python program to access the search bar and search button on images.google.com."
   ]
  },
  {
   "cell_type": "code",
   "execution_count": 24,
   "metadata": {},
   "outputs": [
    {
     "name": "stdout",
     "output_type": "stream",
     "text": [
      "Input the URL or the string you want to search for:maps\n"
     ]
    }
   ],
   "source": [
    "from selenium import webdriver\n",
    "\n",
    "# Taking input from the user\n",
    "search_string=input(\"Input the URL or the string you want to search for:\")\n",
    "\n",
    "# Assigning the browser variable to the chromedriver of chrome\n",
    "browser=webdriver.Chrome('D:/Program Files/chromedriver')\n",
    "\n",
    "for i in range(1):\n",
    "    matched_elements=browser.get(\"https://www.google.com/search?tbm=isch&source=hp&biw=1036&bih=718&ei=P31HX8iOH8C-3LUPp8yMqAo&q=\"+search_string+\"&oq=\" + search_string)\n"
   ]
  },
  {
   "cell_type": "code",
   "execution_count": null,
   "metadata": {},
   "outputs": [],
   "source": []
  }
 ],
 "metadata": {
  "kernelspec": {
   "display_name": "Python 3",
   "language": "python",
   "name": "python3"
  },
  "language_info": {
   "codemirror_mode": {
    "name": "ipython",
    "version": 3
   },
   "file_extension": ".py",
   "mimetype": "text/x-python",
   "name": "python",
   "nbconvert_exporter": "python",
   "pygments_lexer": "ipython3",
   "version": "3.7.4"
  }
 },
 "nbformat": 4,
 "nbformat_minor": 2
}
