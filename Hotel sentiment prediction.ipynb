{
 "cells": [
  {
   "cell_type": "code",
   "execution_count": 88,
   "metadata": {},
   "outputs": [],
   "source": [
    "import pandas as pd\n",
    "import numpy as np\n",
    "import matplotlib.pyplot as plt\n",
    "import seaborn as sns\n",
    "import nltk\n",
    "import gensim"
   ]
  },
  {
   "cell_type": "code",
   "execution_count": 89,
   "metadata": {},
   "outputs": [
    {
     "data": {
      "text/html": [
       "<div>\n",
       "<style scoped>\n",
       "    .dataframe tbody tr th:only-of-type {\n",
       "        vertical-align: middle;\n",
       "    }\n",
       "\n",
       "    .dataframe tbody tr th {\n",
       "        vertical-align: top;\n",
       "    }\n",
       "\n",
       "    .dataframe thead th {\n",
       "        text-align: right;\n",
       "    }\n",
       "</style>\n",
       "<table border=\"1\" class=\"dataframe\">\n",
       "  <thead>\n",
       "    <tr style=\"text-align: right;\">\n",
       "      <th></th>\n",
       "      <th>User_ID</th>\n",
       "      <th>Description</th>\n",
       "      <th>Browser_Used</th>\n",
       "      <th>Device_Used</th>\n",
       "      <th>Is_Response</th>\n",
       "    </tr>\n",
       "  </thead>\n",
       "  <tbody>\n",
       "    <tr>\n",
       "      <td>0</td>\n",
       "      <td>id17093</td>\n",
       "      <td>We stayed here for the last two nights of our ...</td>\n",
       "      <td>Edge</td>\n",
       "      <td>Desktop</td>\n",
       "      <td>happy</td>\n",
       "    </tr>\n",
       "    <tr>\n",
       "      <td>1</td>\n",
       "      <td>id19652</td>\n",
       "      <td>We booked this hotel through Priceline (for a ...</td>\n",
       "      <td>Firefox</td>\n",
       "      <td>Desktop</td>\n",
       "      <td>happy</td>\n",
       "    </tr>\n",
       "    <tr>\n",
       "      <td>2</td>\n",
       "      <td>id34479</td>\n",
       "      <td>Love the style of this place, and I don't mean...</td>\n",
       "      <td>Safari</td>\n",
       "      <td>Tablet</td>\n",
       "      <td>happy</td>\n",
       "    </tr>\n",
       "    <tr>\n",
       "      <td>3</td>\n",
       "      <td>id25711</td>\n",
       "      <td>I stayed at The Langham, Boston on Friday July...</td>\n",
       "      <td>InternetExplorer</td>\n",
       "      <td>Mobile</td>\n",
       "      <td>happy</td>\n",
       "    </tr>\n",
       "    <tr>\n",
       "      <td>4</td>\n",
       "      <td>id29439</td>\n",
       "      <td>and Warm Cookies too. really nice breakfast bu...</td>\n",
       "      <td>Edge</td>\n",
       "      <td>Tablet</td>\n",
       "      <td>not happy</td>\n",
       "    </tr>\n",
       "  </tbody>\n",
       "</table>\n",
       "</div>"
      ],
      "text/plain": [
       "   User_ID                                        Description  \\\n",
       "0  id17093  We stayed here for the last two nights of our ...   \n",
       "1  id19652  We booked this hotel through Priceline (for a ...   \n",
       "2  id34479  Love the style of this place, and I don't mean...   \n",
       "3  id25711  I stayed at The Langham, Boston on Friday July...   \n",
       "4  id29439  and Warm Cookies too. really nice breakfast bu...   \n",
       "\n",
       "       Browser_Used Device_Used Is_Response  \n",
       "0              Edge     Desktop       happy  \n",
       "1           Firefox     Desktop       happy  \n",
       "2            Safari      Tablet       happy  \n",
       "3  InternetExplorer      Mobile       happy  \n",
       "4              Edge      Tablet   not happy  "
      ]
     },
     "execution_count": 89,
     "metadata": {},
     "output_type": "execute_result"
    }
   ],
   "source": [
    "df=pd.read_csv('train.csv')\n",
    "df=df.sample(frac=1).reset_index(drop=True) # Shuffling the dataset\n",
    "df.head()"
   ]
  },
  {
   "cell_type": "code",
   "execution_count": 90,
   "metadata": {},
   "outputs": [
    {
     "data": {
      "text/plain": [
       "(5000, 5)"
      ]
     },
     "execution_count": 90,
     "metadata": {},
     "output_type": "execute_result"
    }
   ],
   "source": [
    "df=df.iloc[:5000,:] # selecting only 5000 rows as large file will not run in the system\n",
    "df.shape"
   ]
  },
  {
   "cell_type": "code",
   "execution_count": 91,
   "metadata": {},
   "outputs": [
    {
     "data": {
      "text/plain": [
       "happy        3439\n",
       "not happy    1561\n",
       "Name: Is_Response, dtype: int64"
      ]
     },
     "execution_count": 91,
     "metadata": {},
     "output_type": "execute_result"
    }
   ],
   "source": [
    "df['Is_Response'].value_counts()"
   ]
  },
  {
   "cell_type": "code",
   "execution_count": 92,
   "metadata": {},
   "outputs": [
    {
     "data": {
      "text/html": [
       "<div>\n",
       "<style scoped>\n",
       "    .dataframe tbody tr th:only-of-type {\n",
       "        vertical-align: middle;\n",
       "    }\n",
       "\n",
       "    .dataframe tbody tr th {\n",
       "        vertical-align: top;\n",
       "    }\n",
       "\n",
       "    .dataframe thead th {\n",
       "        text-align: right;\n",
       "    }\n",
       "</style>\n",
       "<table border=\"1\" class=\"dataframe\">\n",
       "  <thead>\n",
       "    <tr style=\"text-align: right;\">\n",
       "      <th></th>\n",
       "      <th>Description</th>\n",
       "      <th>Is_Response</th>\n",
       "    </tr>\n",
       "  </thead>\n",
       "  <tbody>\n",
       "    <tr>\n",
       "      <td>0</td>\n",
       "      <td>We stayed here for the last two nights of our ...</td>\n",
       "      <td>happy</td>\n",
       "    </tr>\n",
       "    <tr>\n",
       "      <td>1</td>\n",
       "      <td>We booked this hotel through Priceline (for a ...</td>\n",
       "      <td>happy</td>\n",
       "    </tr>\n",
       "    <tr>\n",
       "      <td>2</td>\n",
       "      <td>Love the style of this place, and I don't mean...</td>\n",
       "      <td>happy</td>\n",
       "    </tr>\n",
       "    <tr>\n",
       "      <td>3</td>\n",
       "      <td>I stayed at The Langham, Boston on Friday July...</td>\n",
       "      <td>happy</td>\n",
       "    </tr>\n",
       "    <tr>\n",
       "      <td>4</td>\n",
       "      <td>and Warm Cookies too. really nice breakfast bu...</td>\n",
       "      <td>not happy</td>\n",
       "    </tr>\n",
       "  </tbody>\n",
       "</table>\n",
       "</div>"
      ],
      "text/plain": [
       "                                         Description Is_Response\n",
       "0  We stayed here for the last two nights of our ...       happy\n",
       "1  We booked this hotel through Priceline (for a ...       happy\n",
       "2  Love the style of this place, and I don't mean...       happy\n",
       "3  I stayed at The Langham, Boston on Friday July...       happy\n",
       "4  and Warm Cookies too. really nice breakfast bu...   not happy"
      ]
     },
     "execution_count": 92,
     "metadata": {},
     "output_type": "execute_result"
    }
   ],
   "source": [
    "# Dropping columns like user_id, browser used and device used which is of no much importance\n",
    "df.drop(['User_ID', 'Browser_Used', 'Device_Used'],axis=1,inplace=True) \n",
    "df.head()"
   ]
  },
  {
   "cell_type": "code",
   "execution_count": 93,
   "metadata": {},
   "outputs": [],
   "source": [
    "from nltk.corpus import stopwords\n",
    "from nltk.tokenize import word_tokenize, sent_tokenize\n",
    "from collections import Counter\n",
    "from nltk.sentiment.vader import SentimentIntensityAnalyzer\n",
    "from nltk.stem import WordNetLemmatizer\n",
    "from string import punctuation\n",
    "import string\n"
   ]
  },
  {
   "cell_type": "code",
   "execution_count": 94,
   "metadata": {},
   "outputs": [],
   "source": [
    "df['Description']=df['Description'].str.lower()\n",
    "#remove punctuation\n",
    "df['Description']=df['Description'].str.replace(r'[^\\w\\d\\s]',' ')\n",
    "# Replace whitespace between terms with a single space\n",
    "df['Description']=df['Description'].str.replace(r'\\s+', ' ')\n",
    "# Remove leading and trailing whitespace\n",
    "df['Description'] = df['Description'].str.replace(r'^\\s+|\\s+?$', '')\n"
   ]
  },
  {
   "cell_type": "code",
   "execution_count": 95,
   "metadata": {},
   "outputs": [
    {
     "name": "stdout",
     "output_type": "stream",
     "text": [
      "0       stayed last two nights west coast tour june su...\n",
      "1       booked hotel priceline great rate since needed...\n",
      "2       love style place mean visually although cute m...\n",
      "3       stayed langham boston friday july st parents s...\n",
      "4       warm cookies really nice breakfast buffet get ...\n",
      "                              ...                        \n",
      "4995    boyfriend recently stayed donatello say enough...\n",
      "4996    love san francisco wife stayed part honeymoon ...\n",
      "4997    husband stayed pearl honeymoon read reviews we...\n",
      "4998    decided hotel difficult find hotel new york wi...\n",
      "4999    husband returned fantastic stay sofitel celebr...\n",
      "Name: Description, Length: 5000, dtype: object\n"
     ]
    }
   ],
   "source": [
    "df['Description']=df['Description'].apply(lambda x: ' '.join(term for term in x.split() if term not in stopwords.words('english')))\n",
    "\n",
    "print(df['Description'])"
   ]
  },
  {
   "cell_type": "code",
   "execution_count": 96,
   "metadata": {},
   "outputs": [
    {
     "name": "stdout",
     "output_type": "stream",
     "text": [
      "1517.5570000000064\n",
      "275.87700000000024\n",
      "3206.551\n"
     ]
    }
   ],
   "source": [
    "positive=[]\n",
    "negative=[]\n",
    "neutral=[]\n",
    "for i in df['Description']:\n",
    "    sia=SentimentIntensityAnalyzer()\n",
    "    positive.append(sia.polarity_scores(i)['pos'])\n",
    "    negative.append(sia.polarity_scores(i)['neg'])\n",
    "    neutral.append(sia.polarity_scores(i)['neu'])\n",
    "print(sum(positive))\n",
    "print(sum(negative))\n",
    "print(sum(neutral))"
   ]
  },
  {
   "cell_type": "code",
   "execution_count": 97,
   "metadata": {},
   "outputs": [
    {
     "data": {
      "image/png": "[encoded data removed]",
      "text/plain": [
       "<Figure size 432x288 with 1 Axes>"
      ]
     },
     "metadata": {
      "needs_background": "light"
     },
     "output_type": "display_data"
    }
   ],
   "source": [
    "df_polarity=pd.DataFrame({'Positive':[sum(positive)], 'Negative':[sum(negative)], 'Neutral':[sum(neutral)]})\n",
    "plt.figure()\n",
    "v=[sum(positive), sum(negative), sum(neutral)]\n",
    "pol=['Positive','Negative','Neutral']\n",
    "plt.bar(pol,v)\n",
    "plt.title('Polarity Sentiment Comparison')\n",
    "plt.show()"
   ]
  },
  {
   "cell_type": "markdown",
   "metadata": {},
   "source": [
    "Observation\n",
    "1. From Polarity Sentiment Comparison, we understood that Neutral score is the highest, which could be normal words used in the reviews and positive scores are more than negative scores."
   ]
  },
  {
   "cell_type": "markdown",
   "metadata": {},
   "source": [
    "#### Topic Modelling\n"
   ]
  },
  {
   "cell_type": "code",
   "execution_count": 98,
   "metadata": {},
   "outputs": [],
   "source": [
    "from nltk.stem import WordNetLemmatizer, SnowballStemmer\n",
    "import gensim\n",
    "from gensim.utils import simple_preprocess\n",
    "from gensim.parsing.preprocessing import STOPWORDS\n",
    "stemmer=SnowballStemmer(\"english\")\n"
   ]
  },
  {
   "cell_type": "code",
   "execution_count": 99,
   "metadata": {},
   "outputs": [],
   "source": [
    "# writing function for entire dataset\n",
    "def lemmatize_stemming(text):\n",
    "    return stemmer.stem(WordNetLemmatizer().lemmatize(text,pos='v'))\n",
    "\n",
    "# Tokenize and lemmatize\n",
    "def preprocess(text):\n",
    "    result=[]\n",
    "    for token in gensim.utils.simple_preprocess(text):\n",
    "        if token not in gensim.parsing.preprocessing.STOPWORDS and len(token)>2:\n",
    "            result.append(lemmatize_stemming(token))\n",
    "            \n",
    "    return result"
   ]
  },
  {
   "cell_type": "code",
   "execution_count": 100,
   "metadata": {},
   "outputs": [],
   "source": [
    "result=[] \n",
    "for doc in df['Description']:\n",
    "    for token in gensim.utils.simple_preprocess(doc):\n",
    "        if token not in gensim.parsing.preprocessing.STOPWORDS and len(token)>2:\n",
    "            result.append(stemmer.stem(WordNetLemmatizer().lemmatize(token)))"
   ]
  },
  {
   "cell_type": "code",
   "execution_count": 101,
   "metadata": {},
   "outputs": [],
   "source": [
    "processed_docs=[]\n",
    "for doc in df['Description']:\n",
    "    processed_docs.append(preprocess(doc))"
   ]
  },
  {
   "cell_type": "code",
   "execution_count": 102,
   "metadata": {},
   "outputs": [],
   "source": [
    "# Dictionary on a dataset\n",
    "dictionary=gensim.corpora.Dictionary(processed_docs)"
   ]
  },
  {
   "cell_type": "code",
   "execution_count": 103,
   "metadata": {},
   "outputs": [
    {
     "name": "stdout",
     "output_type": "stream",
     "text": [
      "Dictionary(11938 unique tokens: ['ador', 'breakfast', 'bun', 'choic', 'cinnamon']...)\n"
     ]
    }
   ],
   "source": [
    "print(dictionary)"
   ]
  },
  {
   "cell_type": "code",
   "execution_count": 104,
   "metadata": {},
   "outputs": [
    {
     "name": "stdout",
     "output_type": "stream",
     "text": [
      "0 ador\n",
      "1 breakfast\n",
      "2 bun\n",
      "3 choic\n",
      "4 cinnamon\n",
      "5 citi\n",
      "6 clean\n",
      "7 coast\n",
      "8 come\n",
      "9 expect\n",
      "10 fisherman\n",
      "11 francisco\n",
      "12 friend\n",
      "13 good\n",
      "14 great\n",
      "15 heart\n",
      "16 help\n",
      "17 high\n",
      "18 hotel\n",
      "19 ideal\n",
      "20 june\n"
     ]
    }
   ],
   "source": [
    "# Let us see if dictionary is created successfully\n",
    "count=0\n",
    "for k,v in dictionary.iteritems():\n",
    "    print (k,v)\n",
    "    count +=1\n",
    "    if count>20:\n",
    "        break"
   ]
  },
  {
   "cell_type": "code",
   "execution_count": 105,
   "metadata": {},
   "outputs": [],
   "source": [
    "# remove rare and repetitive words\n",
    "dictionary.filter_extremes(no_below=15,no_above=0.1,keep_n=500000)"
   ]
  },
  {
   "cell_type": "code",
   "execution_count": 106,
   "metadata": {},
   "outputs": [
    {
     "name": "stdout",
     "output_type": "stream",
     "text": [
      "Dictionary(1868 unique tokens: ['choic', 'coast', 'fisherman', 'francisco', 'heart']...)\n"
     ]
    }
   ],
   "source": [
    "print(dictionary)"
   ]
  },
  {
   "cell_type": "code",
   "execution_count": 107,
   "metadata": {},
   "outputs": [],
   "source": [
    "#Create the Bag-of-words model for each document i.e for each document we create a dictionary reporting how many\n",
    "#words and how many times those words appear. Save this to 'bow_corpus'\n",
    "bow_corpus=[dictionary.doc2bow(doc) for doc in processed_docs]"
   ]
  },
  {
   "cell_type": "code",
   "execution_count": 108,
   "metadata": {},
   "outputs": [
    {
     "data": {
      "text/plain": [
       "[(0, 1),\n",
       " (1, 1),\n",
       " (2, 1),\n",
       " (3, 1),\n",
       " (4, 1),\n",
       " (5, 1),\n",
       " (6, 1),\n",
       " (7, 1),\n",
       " (8, 1),\n",
       " (9, 1),\n",
       " (10, 1),\n",
       " (11, 1),\n",
       " (12, 1),\n",
       " (13, 1),\n",
       " (14, 1),\n",
       " (15, 1),\n",
       " (16, 1)]"
      ]
     },
     "execution_count": 108,
     "metadata": {},
     "output_type": "execute_result"
    }
   ],
   "source": [
    "bow_corpus[0]"
   ]
  },
  {
   "cell_type": "code",
   "execution_count": 109,
   "metadata": {},
   "outputs": [],
   "source": [
    "# This dictionary and bow corpus are separate and are not related"
   ]
  },
  {
   "cell_type": "code",
   "execution_count": 110,
   "metadata": {},
   "outputs": [
    {
     "name": "stdout",
     "output_type": "stream",
     "text": [
      "Word 8 (\"modern\") appears 1 time.\n",
      "Word 41 (\"updat\") appears 1 time.\n",
      "Word 53 (\"easi\") appears 1 time.\n",
      "Word 106 (\"husband\") appears 1 time.\n",
      "Word 154 (\"build\") appears 1 time.\n",
      "Word 285 (\"hear\") appears 1 time.\n",
      "Word 335 (\"capit\") appears 1 time.\n",
      "Word 336 (\"cost\") appears 1 time.\n",
      "Word 337 (\"cramp\") appears 1 time.\n",
      "Word 338 (\"even\") appears 1 time.\n",
      "Word 339 (\"extra\") appears 1 time.\n",
      "Word 340 (\"featur\") appears 1 time.\n",
      "Word 341 (\"furnitur\") appears 1 time.\n",
      "Word 342 (\"half\") appears 1 time.\n",
      "Word 343 (\"happen\") appears 1 time.\n",
      "Word 344 (\"marathon\") appears 1 time.\n",
      "Word 345 (\"super\") appears 1 time.\n",
      "Word 346 (\"upper\") appears 1 time.\n",
      "Word 347 (\"worri\") appears 1 time.\n"
     ]
    }
   ],
   "source": [
    "# preview\n",
    "document_num=10\n",
    "bow_doc_x=bow_corpus[document_num]\n",
    "\n",
    "for i in range(len(bow_doc_x)):\n",
    "    print(\"Word {} (\\\"{}\\\") appears {} time.\".format(bow_doc_x[i][0], dictionary[bow_doc_x[i][0]], bow_doc_x[i][1]))"
   ]
  },
  {
   "cell_type": "code",
   "execution_count": 111,
   "metadata": {},
   "outputs": [],
   "source": [
    "lda_model=gensim.models.LdaMulticore(bow_corpus,num_topics=30,id2word=dictionary,passes=10,workers=2)"
   ]
  },
  {
   "cell_type": "code",
   "execution_count": 112,
   "metadata": {},
   "outputs": [
    {
     "name": "stdout",
     "output_type": "stream",
     "text": [
      "Topic: 11 \n",
      "Words: 0.014*\"manag\" + 0.012*\"dirti\" + 0.011*\"quiet\" + 0.010*\"hyatt\" + 0.009*\"call\" + 0.009*\"blanket\" + 0.008*\"wonder\" + 0.007*\"charg\" + 0.007*\"york\" + 0.007*\"say\"\n",
      "\n",
      "\n",
      "Topic: 22 \n",
      "Words: 0.012*\"resort\" + 0.009*\"say\" + 0.008*\"big\" + 0.008*\"standard\" + 0.007*\"doubl\" + 0.007*\"bath\" + 0.007*\"spend\" + 0.007*\"sure\" + 0.007*\"westin\" + 0.007*\"surpris\"\n",
      "\n",
      "\n",
      "Topic: 7 \n",
      "Words: 0.016*\"car\" + 0.012*\"motel\" + 0.012*\"say\" + 0.009*\"light\" + 0.009*\"overal\" + 0.009*\"advis\" + 0.009*\"disappoint\" + 0.009*\"rate\" + 0.008*\"inn\" + 0.008*\"reserv\"\n",
      "\n",
      "\n",
      "Topic: 13 \n",
      "Words: 0.012*\"downtown\" + 0.011*\"town\" + 0.011*\"car\" + 0.010*\"conveni\" + 0.010*\"san\" + 0.008*\"drive\" + 0.008*\"basic\" + 0.008*\"anniversari\" + 0.008*\"easi\" + 0.007*\"valu\"\n",
      "\n",
      "\n",
      "Topic: 21 \n",
      "Words: 0.013*\"dinner\" + 0.011*\"properti\" + 0.008*\"even\" + 0.008*\"eat\" + 0.007*\"decor\" + 0.007*\"voucher\" + 0.007*\"recept\" + 0.006*\"sure\" + 0.006*\"tri\" + 0.006*\"call\"\n",
      "\n",
      "\n",
      "Topic: 25 \n",
      "Words: 0.009*\"inn\" + 0.009*\"cool\" + 0.009*\"reason\" + 0.008*\"girl\" + 0.008*\"weekend\" + 0.007*\"entir\" + 0.007*\"downtown\" + 0.006*\"week\" + 0.005*\"thank\" + 0.005*\"central\"\n",
      "\n",
      "\n",
      "Topic: 27 \n",
      "Words: 0.011*\"know\" + 0.011*\"manag\" + 0.011*\"charg\" + 0.008*\"wait\" + 0.008*\"key\" + 0.007*\"receiv\" + 0.007*\"final\" + 0.007*\"say\" + 0.007*\"elev\" + 0.007*\"call\"\n",
      "\n",
      "\n",
      "Topic: 14 \n",
      "Words: 0.014*\"build\" + 0.013*\"husband\" + 0.011*\"decor\" + 0.010*\"state\" + 0.009*\"empir\" + 0.008*\"window\" + 0.008*\"nyc\" + 0.008*\"famili\" + 0.008*\"year\" + 0.007*\"easi\"\n",
      "\n",
      "\n",
      "Topic: 1 \n",
      "Words: 0.018*\"dog\" + 0.012*\"beach\" + 0.011*\"pet\" + 0.010*\"beauti\" + 0.008*\"tea\" + 0.008*\"ocean\" + 0.008*\"seattl\" + 0.007*\"center\" + 0.007*\"milk\" + 0.006*\"water\"\n",
      "\n",
      "\n",
      "Topic: 17 \n",
      "Words: 0.013*\"center\" + 0.011*\"space\" + 0.011*\"convent\" + 0.010*\"conveni\" + 0.010*\"downtown\" + 0.009*\"open\" + 0.007*\"call\" + 0.007*\"charg\" + 0.007*\"late\" + 0.006*\"water\"\n",
      "\n",
      "\n",
      "Topic: 29 \n",
      "Words: 0.017*\"easi\" + 0.015*\"downtown\" + 0.015*\"access\" + 0.012*\"internet\" + 0.011*\"wifi\" + 0.011*\"distanc\" + 0.010*\"chicago\" + 0.010*\"includ\" + 0.010*\"subway\" + 0.009*\"line\"\n",
      "\n",
      "\n",
      "Topic: 15 \n",
      "Words: 0.013*\"water\" + 0.011*\"toilet\" + 0.009*\"turn\" + 0.008*\"near\" + 0.008*\"run\" + 0.007*\"know\" + 0.007*\"star\" + 0.007*\"quiet\" + 0.007*\"averag\" + 0.007*\"year\"\n",
      "\n",
      "\n",
      "Topic: 5 \n",
      "Words: 0.012*\"hear\" + 0.011*\"feel\" + 0.011*\"light\" + 0.011*\"valu\" + 0.009*\"wall\" + 0.009*\"hallway\" + 0.008*\"quiet\" + 0.008*\"car\" + 0.008*\"confer\" + 0.007*\"phone\"\n",
      "\n",
      "\n",
      "Topic: 26 \n",
      "Words: 0.013*\"charg\" + 0.011*\"pleasant\" + 0.010*\"famili\" + 0.009*\"internet\" + 0.009*\"money\" + 0.009*\"water\" + 0.007*\"surpris\" + 0.007*\"dupont\" + 0.007*\"reserv\" + 0.007*\"issu\"\n",
      "\n",
      "\n",
      "Topic: 16 \n",
      "Words: 0.011*\"home\" + 0.008*\"greet\" + 0.007*\"sign\" + 0.007*\"long\" + 0.007*\"hot\" + 0.006*\"know\" + 0.006*\"manag\" + 0.006*\"let\" + 0.006*\"towel\" + 0.006*\"call\"\n",
      "\n",
      "\n",
      "Topic: 20 \n",
      "Words: 0.031*\"airport\" + 0.025*\"shuttl\" + 0.012*\"charg\" + 0.011*\"easi\" + 0.011*\"conveni\" + 0.010*\"flight\" + 0.009*\"access\" + 0.009*\"car\" + 0.009*\"station\" + 0.009*\"internet\"\n",
      "\n",
      "\n",
      "Topic: 24 \n",
      "Words: 0.011*\"window\" + 0.009*\"wait\" + 0.009*\"sit\" + 0.008*\"air\" + 0.007*\"microwav\" + 0.007*\"king\" + 0.007*\"club\" + 0.006*\"big\" + 0.006*\"includ\" + 0.006*\"eat\"\n",
      "\n",
      "\n",
      "Topic: 6 \n",
      "Words: 0.022*\"bug\" + 0.013*\"wed\" + 0.009*\"week\" + 0.008*\"happi\" + 0.008*\"town\" + 0.008*\"earli\" + 0.007*\"manag\" + 0.007*\"pillow\" + 0.006*\"uncomfort\" + 0.006*\"decor\"\n",
      "\n",
      "\n",
      "Topic: 4 \n",
      "Words: 0.009*\"hot\" + 0.009*\"bath\" + 0.008*\"king\" + 0.008*\"window\" + 0.008*\"wait\" + 0.006*\"water\" + 0.006*\"light\" + 0.006*\"call\" + 0.006*\"linen\" + 0.005*\"doubl\"\n",
      "\n",
      "\n",
      "Topic: 3 \n",
      "Words: 0.017*\"hilton\" + 0.009*\"tower\" + 0.008*\"kid\" + 0.008*\"fruit\" + 0.007*\"juic\" + 0.007*\"egg\" + 0.007*\"cereal\" + 0.007*\"towel\" + 0.006*\"diego\" + 0.006*\"inn\"\n",
      "\n",
      "\n"
     ]
    }
   ],
   "source": [
    "for idx, topic in lda_model.print_topics():\n",
    "    print(\"Topic: {} \\nWords: {}\".format(idx,topic))\n",
    "    print(\"\\n\")"
   ]
  },
  {
   "cell_type": "markdown",
   "metadata": {},
   "source": [
    "Observations from the topic modelling:-\n",
    "\n",
    "Topic: 11 \n",
    "Words: 0.014*\"manag\" + 0.012*\"dirti\" + 0.011*\"quiet\" + 0.010*\"hyatt\" + 0.009*\"call\" + 0.009*\"blanket\" + 0.008*\"wonder\" + 0.007*\"charg\" + 0.007*\"york\" + 0.007*\"say\"\n",
    "\n",
    "This indicates a negative reviews with words like dirt blanket etc\n",
    "\n",
    "Topic: 7 \n",
    "Words: 0.016*\"car\" + 0.012*\"motel\" + 0.012*\"say\" + 0.009*\"light\" + 0.009*\"overal\" + 0.009*\"advis\" + 0.009*\"disappoint\" + 0.009*\"rate\" + 0.008*\"inn\" + 0.008*\"reserv\"\n",
    "\n",
    "---> This indicates a negative review with words like disappint, advise, overall etc\n",
    "\n",
    "Topic: 13 \n",
    "Words: 0.012*\"downtown\" + 0.011*\"town\" + 0.011*\"car\" + 0.010*\"conveni\" + 0.010*\"san\" + 0.008*\"drive\" + 0.008*\"basic\" + 0.008*\"anniversari\" + 0.008*\"easi\" + 0.007*\"valu\"\n",
    "\n",
    "---> This refers to a positive review which is indicated by words like easi, value, convenient etc\n",
    "    \n",
    "Topic: 20 \n",
    "Words: 0.031*\"airport\" + 0.025*\"shuttl\" + 0.012*\"charg\" + 0.011*\"easi\" + 0.011*\"conveni\" + 0.010*\"flight\" + 0.009*\"access\" + 0.009*\"car\" + 0.009*\"station\" + 0.009*\"internet\"\n",
    "\n",
    "---> This indicates a positive review with words like easy, convenient etc\n",
    "    \n",
    "Topic: 6 \n",
    "Words: 0.022*\"bug\" + 0.013*\"wed\" + 0.009*\"week\" + 0.008*\"happi\" + 0.008*\"town\" + 0.008*\"earli\" + 0.007*\"manag\" + 0.007*\"pillow\" + 0.006*\"uncomfort\" + 0.006*\"decor\"\n",
    "\n",
    "---> This indicates a negative review with words like bug, uncomfort etc."
   ]
  }
 ],
 "metadata": {
  "kernelspec": {
   "display_name": "Python 3",
   "language": "python",
   "name": "python3"
  },
  "language_info": {
   "codemirror_mode": {
    "name": "ipython",
    "version": 3
   },
   "file_extension": ".py",
   "mimetype": "text/x-python",
   "name": "python",
   "nbconvert_exporter": "python",
   "pygments_lexer": "ipython3",
   "version": "3.7.4"
  }
 },
 "nbformat": 4,
 "nbformat_minor": 2
}
