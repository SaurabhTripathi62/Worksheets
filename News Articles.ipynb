{
 "cells": [
  {
   "cell_type": "code",
   "execution_count": 1,
   "metadata": {},
   "outputs": [],
   "source": [
    "# Let us try to webscrape the news articles from timesofindia"
   ]
  },
  {
   "cell_type": "code",
   "execution_count": 2,
   "metadata": {},
   "outputs": [],
   "source": [
    "from bs4 import BeautifulSoup\n",
    "import requests"
   ]
  },
  {
   "cell_type": "code",
   "execution_count": 3,
   "metadata": {},
   "outputs": [],
   "source": [
    "import pandas as pd\n",
    "import numpy as np"
   ]
  },
  {
   "cell_type": "code",
   "execution_count": 4,
   "metadata": {},
   "outputs": [
    {
     "ename": "TypeError",
     "evalue": "'NoneType' object is not subscriptable",
     "output_type": "error",
     "traceback": [
      "\u001b[1;31m---------------------------------------------------------------------------\u001b[0m",
      "\u001b[1;31mTypeError\u001b[0m                                 Traceback (most recent call last)",
      "\u001b[1;32m<ipython-input-4-a0e2d46fa0d4>\u001b[0m in \u001b[0;36m<module>\u001b[1;34m\u001b[0m\n\u001b[0;32m     10\u001b[0m             \u001b[1;32mfor\u001b[0m \u001b[0mlitag\u001b[0m \u001b[1;32min\u001b[0m \u001b[0mdivtag\u001b[0m\u001b[1;33m.\u001b[0m\u001b[0mfind_all\u001b[0m\u001b[1;33m(\u001b[0m\u001b[1;34m'li'\u001b[0m\u001b[1;33m)\u001b[0m\u001b[1;33m:\u001b[0m\u001b[1;33m\u001b[0m\u001b[1;33m\u001b[0m\u001b[0m\n\u001b[0;32m     11\u001b[0m                 \u001b[0mcounter\u001b[0m\u001b[1;33m=\u001b[0m\u001b[0mcounter\u001b[0m\u001b[1;33m+\u001b[0m\u001b[1;36m1\u001b[0m\u001b[1;33m\u001b[0m\u001b[1;33m\u001b[0m\u001b[0m\n\u001b[1;32m---> 12\u001b[1;33m                 \u001b[0mnewurl\u001b[0m\u001b[1;33m=\u001b[0m\u001b[1;34m'https://timesofindia.indiatimes.com/india'\u001b[0m\u001b[1;33m+\u001b[0m\u001b[0mlitag\u001b[0m\u001b[1;33m.\u001b[0m\u001b[0mfind\u001b[0m\u001b[1;33m(\u001b[0m\u001b[1;34m'a'\u001b[0m\u001b[1;33m)\u001b[0m\u001b[1;33m[\u001b[0m\u001b[1;34m'href'\u001b[0m\u001b[1;33m]\u001b[0m\u001b[1;33m\u001b[0m\u001b[1;33m\u001b[0m\u001b[0m\n\u001b[0m\u001b[0;32m     13\u001b[0m                 \u001b[0murllist\u001b[0m\u001b[1;33m.\u001b[0m\u001b[0mappend\u001b[0m\u001b[1;33m(\u001b[0m\u001b[0mnewurl\u001b[0m\u001b[1;33m)\u001b[0m\u001b[1;33m\u001b[0m\u001b[1;33m\u001b[0m\u001b[0m\n",
      "\u001b[1;31mTypeError\u001b[0m: 'NoneType' object is not subscriptable"
     ]
    }
   ],
   "source": [
    "#page1\n",
    "urllist=[]\n",
    "url=requests.get(\"https://timesofindia.indiatimes.com/india\")\n",
    "content=url.content\n",
    "soup=BeautifulSoup(content,'lxml')\n",
    "counter=0\n",
    "for divtag in soup.find_all('div',{'class':'container wrapper clearfix'}):\n",
    "    for ultag in divtag.find_all('ul',{'class':'list5 clearfix'}):\n",
    "        if (counter<=30) :\n",
    "            for litag in divtag.find_all('li'):\n",
    "                counter=counter+1\n",
    "                newurl='https://timesofindia.indiatimes.com/india'+litag.find('a')['href']\n",
    "                urllist.append(newurl)\n"
   ]
  },
  {
   "cell_type": "code",
   "execution_count": 6,
   "metadata": {},
   "outputs": [
    {
     "data": {
      "text/plain": [
       "88"
      ]
     },
     "execution_count": 6,
     "metadata": {},
     "output_type": "execute_result"
    }
   ],
   "source": [
    "len(urllist)"
   ]
  },
  {
   "cell_type": "code",
   "execution_count": 10,
   "metadata": {},
   "outputs": [],
   "source": [
    "newslist=[]\n",
    "for i in urllist:\n",
    "    freshurl=requests.get(i)\n",
    "    cont=freshurl.content\n",
    "    soup=BeautifulSoup(cont,'lxml')\n",
    "    text=soup.find('div',{'class':'_1_Akb clearfix'})\n",
    "    #a=text.text()\n",
    "    #newslist.append(a)"
   ]
  },
  {
   "cell_type": "code",
   "execution_count": 11,
   "metadata": {},
   "outputs": [
    {
     "data": {
      "text/plain": [
       "<div class=\"_1_Akb clearfix\">NEW DELHI: <a class=\"\" data-ga=\"within_article-topic_link|topic_http://timesofindia.indiatimes.com/topic/Indian-Institute-of-Technology\" frmappuse=\"1\" href=\"http://timesofindia.indiatimes.com/topic/Indian-Institute-of-Technology\" styleobj=\"[object Object]\">Indian Institute of Technology</a> (IIT), Kanpur, organising institute of <a class=\"\" data-ga=\"within_article-topic_link|topic_Joint-Admission-Test\" frmappuse=\"1\" href=\"https://timesofindia.indiatimes.com/topic/Joint-Admission-Test\" styleobj=\"[object Object]\">Joint Admission Test</a> for M.Sc. (JAM) has released the <a class=\"\" data-ga=\"within_article-topic_link|topic_JAM-answer-key-2020\" frmappuse=\"1\" href=\"https://timesofindia.indiatimes.com/topic/JAM-answer-key-2020\" styleobj=\"[object Object]\">JAM answer key 2020</a> on its official website today i.e. February 20, 2020. <br/>The candidates who have appeared for the IIT JAM 2020 can visit the official website JAM — <a class=\"\" data-ga=\"within_article-topic_link|topic_jam.iitk.ac.in\" frmappuse=\"1\" href=\"https://timesofindia.indiatimes.com/topic/jam.iitk.ac.in\" styleobj=\"[object Object]\">jam.iitk.ac.in</a> — to check and download the answer key. <br/>IIT Kanpur has also released the JAM question papers on its official website. Candidates can raise objections against JAM 2020 answer key from tomorrow i.e. February 21, 2020 (10.00 am). The last date to raise objections against JAM 2020 answer key is February 24, 2020. Candidates are required to pay a fee of Rs 500 for each question challenged. If the challenge is accepted by the board, the payment for the challenge will be refunded. <br/>The information available on the official website reads \"In the JOAPS portal , a module to contest answer keys will be available from 10:00 hours (IST) of 21st February 2020 till 17:00 hours (IST) of 24th February 2020. The candidates can contest/challenge the answer key of any question after giving their justification and a payment of Rs. 500 (for each question) through the online payment link available in the JOAPS. Contests will be considered only if the payment is completed successfully. Payment for a challenge that is accepted will be refunded.\" <br/>Candidates can check their JAM 2020 answer keys from the direct link given below. Candidates need to select the subject to check the JAM 2020 answer key. <br/><a class=\"\" frmappuse=\"1\" href=\"http://jam.iitk.ac.in/qp2020keys.php\" rel=\"noopener nofollow noreferrer\" styleobj=\"[object Object]\">Click here to check JAm 2020 answer key</a><br/>Joint Admission Test for M.Sc. (JAM) is being conducted for admissions to M.Sc. (Four Semesters), Joint M.Sc.-Ph.D., M.Sc.-Ph.D. Dual Degree, etc in IITs and IISc institutions. <br/></div>"
      ]
     },
     "execution_count": 11,
     "metadata": {},
     "output_type": "execute_result"
    }
   ],
   "source": [
    "text"
   ]
  },
  {
   "cell_type": "code",
   "execution_count": null,
   "metadata": {},
   "outputs": [],
   "source": []
  }
 ],
 "metadata": {
  "kernelspec": {
   "display_name": "Python 3",
   "language": "python",
   "name": "python3"
  }
 },
 "nbformat": 4,
 "nbformat_minor": 2
}
